{
 "cells": [
  {
   "cell_type": "markdown",
   "id": "4212f0e7",
   "metadata": {},
   "source": [
    "# Introduction to XGBoost\n",
    "\n",
    "XGBoost is an implementation of gradienjt boosting algorithm designed for spped and performance. XGBoost stands for eXtreme Gradient Boosting.\n",
    "\n",
    "It was developed by Tianqi Chen and is laser focussed on computations spped and model performance\n",
    "\n",
    "In addition to supporting all key variations of the techniquem the real interest is the spped provised by careful engineering of the implementation, including:\n",
    "\n",
    "1) Parallelization of the tree construction using all your CPU cores during training\n",
    "2) Distributed Computing of very large models using a cluster of machines\n",
    "3) Out-of-Core computing for very large datasets that don't fit into memory\n",
    "4) Cache Optimization of Data Structures and algorithms to make best use of the hardware\n",
    "\n",
    "Traditionally Gradient Bosoting Algorithms are slow because of sequential nature in which each tree must be constructed and added to the model.\n",
    "\n",
    "The on performance in the development of XGBoost has resulted in one of the best predictive modelling algorithms that can now harness the full capability of your hardware platform or very large computers you might rent in cloud.\n",
    "\n",
    "As such XGBoost has become one of the cornerstone in competitive machine learning being the technique used to win and recommended by winners. For example, here is what some of the Kaggle competition winners have had to say:\n",
    "\n",
    "\"As the winner of an increasing amount of Kaggle competitions, XGBoost showed us again to be a great all-round algorithm worth having in your toolbox.\"\n",
    "-- Dato Winners’ Interview\n",
    "\n",
    "\"When in doubt, use xgboost.\"\n",
    "-- Avito Winner’s Interview\n",
    "\n",
    "\n"
   ]
  }
 ],
 "metadata": {
  "kernelspec": {
   "display_name": "Python 3 (ipykernel)",
   "language": "python",
   "name": "python3"
  },
  "language_info": {
   "codemirror_mode": {
    "name": "ipython",
    "version": 3
   },
   "file_extension": ".py",
   "mimetype": "text/x-python",
   "name": "python",
   "nbconvert_exporter": "python",
   "pygments_lexer": "ipython3",
   "version": "3.7.1"
  }
 },
 "nbformat": 4,
 "nbformat_minor": 5
}
