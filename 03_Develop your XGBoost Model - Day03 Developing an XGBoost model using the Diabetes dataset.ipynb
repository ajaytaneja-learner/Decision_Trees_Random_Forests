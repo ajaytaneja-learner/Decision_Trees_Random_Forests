{
 "cells": [
  {
   "cell_type": "markdown",
   "id": "572a50ea",
   "metadata": {},
   "source": [
    "# Developing a XGBoost Model\n",
    "\n",
    "Data Set to be used: https://www.kaggle.com/datasets/kumargh/pimaindiansdiabetescsv?resource=download\n",
    "\n",
    "This is the pima-indians-diabetes dataset. \n",
    "\n",
    "Pima Indians are the North American Indians who traditionally lived along the Gila and Salt rivers in Arizona, U.S., in what was the core area of the prehistoric Hohokam culture (https://www.britannica.com/topic/Pima-people).\n",
    "\n",
    "About this Dataset:\n",
    "\n",
    "The dataset describes the medical records of the Pima Indians and whether or not each patitent will have an onset of diabetees within some years\n",
    "\n",
    "Features/Fields in the datset:\n",
    "\n",
    "preg = Number of times pregnant\n",
    "plas = plasma glucose concentration in 2 hours in an oral glucose tolerance test\n",
    "pres = Diastolic blood pressure (mmHg)\n",
    "skin = tricep skin fold thickness (mm)\n",
    "test =  2 Hour serum insulin\n",
    "mass = mass body index (weight in kg/ht in m)\n",
    "pedi = Diabetes pedigree function\n",
    "age = Age (years)\n",
    "class = class variable (1: tested positive for diabetes; 0: tested negative for diabetes)\n"
   ]
  },
  {
   "cell_type": "code",
   "execution_count": 1,
   "id": "b158af23",
   "metadata": {},
   "outputs": [],
   "source": [
    "from numpy import loadtxt\n",
    "from xgboost import XGBClassifier\n",
    "from sklearn.model_selection import train_test_split\n",
    "from sklearn.metrics import accuracy_score"
   ]
  },
  {
   "cell_type": "code",
   "execution_count": 2,
   "id": "685b3513",
   "metadata": {},
   "outputs": [],
   "source": [
    "#load data\n",
    "dataset = loadtxt('pima-indians-diabetes.csv', delimiter = \",\")"
   ]
  },
  {
   "cell_type": "code",
   "execution_count": 3,
   "id": "cd15f963",
   "metadata": {},
   "outputs": [
    {
     "name": "stdout",
     "output_type": "stream",
     "text": [
      "[[  6.    148.     72.    ...   0.627  50.      1.   ]\n",
      " [  1.     85.     66.    ...   0.351  31.      0.   ]\n",
      " [  8.    183.     64.    ...   0.672  32.      1.   ]\n",
      " ...\n",
      " [  5.    121.     72.    ...   0.245  30.      0.   ]\n",
      " [  1.    126.     60.    ...   0.349  47.      1.   ]\n",
      " [  1.     93.     70.    ...   0.315  23.      0.   ]]\n"
     ]
    }
   ],
   "source": [
    "print(dataset)"
   ]
  },
  {
   "cell_type": "code",
   "execution_count": 4,
   "id": "325cfc0a",
   "metadata": {},
   "outputs": [],
   "source": [
    "#split the data into X and Y\n",
    "X = dataset[:,0:8]\n",
    "Y = dataset[:,8]"
   ]
  },
  {
   "cell_type": "code",
   "execution_count": 5,
   "id": "c473c205",
   "metadata": {},
   "outputs": [],
   "source": [
    "#Split into train and test set\n",
    "seed = 7\n",
    "test_size = 0.33\n",
    "X_train, X_test, y_train, y_test = train_test_split(X, Y, test_size=test_size, random_state=seed)"
   ]
  },
  {
   "cell_type": "code",
   "execution_count": 6,
   "id": "0963afcc",
   "metadata": {},
   "outputs": [
    {
     "data": {
      "text/plain": [
       "XGBClassifier(base_score=0.5, booster='gbtree', callbacks=None,\n",
       "              colsample_bylevel=1, colsample_bynode=1, colsample_bytree=1,\n",
       "              early_stopping_rounds=None, enable_categorical=False,\n",
       "              eval_metric=None, gamma=0, gpu_id=-1, grow_policy='depthwise',\n",
       "              importance_type=None, interaction_constraints='',\n",
       "              learning_rate=0.101000012, max_bin=256, max_cat_to_onehot=4,\n",
       "              max_delta_step=0, max_depth=6, max_leaves=0, min_child_weight=1,\n",
       "              missing=nan, monotone_constraints='()', n_estimators=100,\n",
       "              n_jobs=0, num_parallel_tree=1, predictor='auto', random_state=0,\n",
       "              reg_alpha=0, reg_lambda=1, ...)"
      ]
     },
     "execution_count": 6,
     "metadata": {},
     "output_type": "execute_result"
    }
   ],
   "source": [
    "#fit the model on the training data\n",
    "model = XGBClassifier(learning_rate=0.101000012, n_estimators=100)\n",
    "model.fit(X_train, y_train)"
   ]
  },
  {
   "cell_type": "code",
   "execution_count": 7,
   "id": "407184ec",
   "metadata": {},
   "outputs": [],
   "source": [
    "#make predictions for the test data\n",
    "predictions = model.predict(X_test)"
   ]
  },
  {
   "cell_type": "code",
   "execution_count": 8,
   "id": "e21103ed",
   "metadata": {},
   "outputs": [
    {
     "name": "stdout",
     "output_type": "stream",
     "text": [
      "Accuracy: 75.98%\n"
     ]
    }
   ],
   "source": [
    "#evaluate predictions\n",
    "accuracy = accuracy_score(y_test, predictions)\n",
    "print(\"Accuracy: %.2f%%\" % (accuracy * 100.0))"
   ]
  }
 ],
 "metadata": {
  "kernelspec": {
   "display_name": "Python 3 (ipykernel)",
   "language": "python",
   "name": "python3"
  },
  "language_info": {
   "codemirror_mode": {
    "name": "ipython",
    "version": 3
   },
   "file_extension": ".py",
   "mimetype": "text/x-python",
   "name": "python",
   "nbconvert_exporter": "python",
   "pygments_lexer": "ipython3",
   "version": "3.7.1"
  }
 },
 "nbformat": 4,
 "nbformat_minor": 5
}
