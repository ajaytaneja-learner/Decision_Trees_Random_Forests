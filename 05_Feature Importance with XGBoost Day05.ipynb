{
 "cells": [
  {
   "cell_type": "markdown",
   "id": "1bdf4703",
   "metadata": {},
   "source": [
    "# Feature Importance with XGBoost (Day 05)\n",
    "\n",
    "A benefit of ensemble of decision trees methods like gradient boosting is that they can automatically provide estimates of feature importance from a trained predictive model.\n",
    "\n",
    "A trained XGBoost model automatically calculates feature importance on your predictive modelling problem.\n",
    "\n",
    "These importances scores are available in feature_importances_ member variable of the trained model. They can directly be printed as follows:\n",
    "\n",
    "print(model.feature_importances_)\n",
    "\n",
    "The XGBoost library provides a buil;t in function to plot the feature importances\n",
    "\n",
    "The function is called plot_importance() and can be called as follows:\n",
    "\n",
    "plot_importance(model)\n",
    "pyplot.show()\n",
    "\n",
    "These importances can help you decide which input variables to keep or discard. They can also be used as basis for automatic feature selection techniques.\n",
    "\n",
    "The complete example for plotting feature importances using the Pima Indians data set is shown below."
   ]
  },
  {
   "cell_type": "markdown",
   "id": "b4b44d67",
   "metadata": {},
   "source": [
    "#plot feature importance using XGBoost built in function\n",
    "\n",
    "from numpy import loadtxt\n",
    "from xgboost import XGBClassifier\n",
    "from xgboost import plot_importance\n",
    "from matplotlib import pyplot"
   ]
  },
  {
   "cell_type": "code",
   "execution_count": 7,
   "id": "2f8fa271",
   "metadata": {},
   "outputs": [],
   "source": [
    "from numpy import loadtxt\n",
    "from xgboost import XGBClassifier\n",
    "from xgboost import plot_importance\n",
    "from matplotlib import pyplot"
   ]
  },
  {
   "cell_type": "code",
   "execution_count": 8,
   "id": "07d48a59",
   "metadata": {},
   "outputs": [],
   "source": [
    "#load the data\n",
    "dataset = loadtxt('pima-indians-diabetes.csv', delimiter = \",\")"
   ]
  },
  {
   "cell_type": "code",
   "execution_count": 9,
   "id": "8fb3d868",
   "metadata": {},
   "outputs": [],
   "source": [
    "#split the data into X and Y\n",
    "X = dataset[:,0:8]\n",
    "y = dataset[:,8]"
   ]
  },
  {
   "cell_type": "code",
   "execution_count": 10,
   "id": "ace2276f",
   "metadata": {},
   "outputs": [
    {
     "data": {
      "text/plain": [
       "XGBClassifier(base_score=0.5, booster='gbtree', callbacks=None,\n",
       "              colsample_bylevel=1, colsample_bynode=1, colsample_bytree=1,\n",
       "              early_stopping_rounds=None, enable_categorical=False,\n",
       "              eval_metric=None, gamma=0, gpu_id=-1, grow_policy='depthwise',\n",
       "              importance_type=None, interaction_constraints='',\n",
       "              learning_rate=0.300000012, max_bin=256, max_cat_to_onehot=4,\n",
       "              max_delta_step=0, max_depth=6, max_leaves=0, min_child_weight=1,\n",
       "              missing=nan, monotone_constraints='()', n_estimators=100,\n",
       "              n_jobs=0, num_parallel_tree=1, predictor='auto', random_state=0,\n",
       "              reg_alpha=0, reg_lambda=1, ...)"
      ]
     },
     "execution_count": 10,
     "metadata": {},
     "output_type": "execute_result"
    }
   ],
   "source": [
    "#fit the model on training data\n",
    "model = XGBClassifier()\n",
    "model.fit(X,y)"
   ]
  },
  {
   "cell_type": "code",
   "execution_count": 11,
   "id": "53e5abf8",
   "metadata": {},
   "outputs": [
    {
     "data": {
      "image/png": "[encoded data removed]",
      "text/plain": [
       "<Figure size 432x288 with 1 Axes>"
      ]
     },
     "metadata": {
      "needs_background": "light"
     },
     "output_type": "display_data"
    }
   ],
   "source": [
    "#plot the feature importance\n",
    "plot_importance(model)\n",
    "pyplot.show()"
   ]
  },
  {
   "cell_type": "markdown",
   "id": "c6fb4cb8",
   "metadata": {},
   "source": [
    "Above:\n",
    "Features/Fields in the datset:\n",
    "\n",
    "preg = Number of times pregnant (f0)\n",
    "plas = plasma glucose concentration in 2 hours in an oral glucose tolerance test (f1) - second highest feature importance\n",
    "pres = Diastolic blood pressure (mmHg) (f2)\n",
    "skin = tricep skin fold thickness (mm) (f3)\n",
    "test =  2 Hour serum insulin (f4)\n",
    "mass = mass body index (weight in kg/ht in m) (f5) - third highest feature importance\n",
    "pedi = Diabetes pedigree function (f6) - highest feature importance - heredity\n",
    "age = Age (years) (f7)\n",
    "class = class variable (1: tested positive for diabetes; 0: tested negative for diabetes)"
   ]
  }
 ],
 "metadata": {
  "kernelspec": {
   "display_name": "Python 3 (ipykernel)",
   "language": "python",
   "name": "python3"
  },
  "language_info": {
   "codemirror_mode": {
    "name": "ipython",
    "version": 3
   },
   "file_extension": ".py",
   "mimetype": "text/x-python",
   "name": "python",
   "nbconvert_exporter": "python",
   "pygments_lexer": "ipython3",
   "version": "3.7.1"
  }
 },
 "nbformat": 4,
 "nbformat_minor": 5
}
