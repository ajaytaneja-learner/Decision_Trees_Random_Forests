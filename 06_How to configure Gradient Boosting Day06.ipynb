{
 "cells": [
  {
   "cell_type": "markdown",
   "id": "35d0483b",
   "metadata": {},
   "source": [
    "# How to configure Gradient Boosting\n",
    "\n",
    "Ref:\n",
    "\n",
    "1) https://datascience.stackexchange.com/questions/66094/how-are-samples-selected-from-training-data-in-xgboost\n",
    "2) https://machinelearningmastery.com/a-gentle-introduction-to-the-bootstrap-method/\n",
    "3) https://www.brutalk.com/en/news/brutalk-blog/view/how-to-configure-the-gradient-boosting-algorithm-60471b4deff6a (For configuring Gradient Boosting)\n",
    "\n",
    "\n",
    "\n",
    "Gradient Boosting is one of the powerful method for applied amchine learning and as such is very popular. \n",
    "\n",
    "How do you configure gradient boosting on your problem?\n",
    "\n",
    "A number of configuration heuristics were published in the original gradient bosoting papers. These can be summarized as follows:\n",
    "\n",
    "1) Learning rate or shrinkage rate (learning_rate in XGBoost) should be 0.1 or lower\n",
    "2) The depth of the trees (max_depth in XGBoost) should be configures in the range of 2 to 8 where not much benefit is seen in deeper trees\n",
    "3) Row sampling (see references) should be configured in the range of 30% to 80% of the training dataset compared to value of 100% for no sampling\n",
    "\n",
    "These are good starting point while configuring your model.\n",
    "\n",
    "A good configuring strategy is as follows:\n",
    "\n",
    "1) Run the default configuration and review plots of the learning curves on the taring and validation datasets\n",
    "2) If the system l;earns quickly, decrease the learning rate or increase the number of trees\n",
    "3) If the system learns slowly, increase the learning rate to be more aggresive and/or decrease the number of trees\n",
    "\n",
    "Owen Zhang, the former number 1 ranked competitor on Kaggle and now CTO at Data Robot proposes an interesting strategy to configure XGBoost.\n",
    "\n",
    "He suggests to set the number of trees to a target value such as 100 or 1000, then tune the learning rate to find the best model. This is an efficient strategy for quickly finding a good model.\n",
    "\n",
    "\n",
    "\n",
    "\n"
   ]
  },
  {
   "cell_type": "raw",
   "id": "5666a1ee",
   "metadata": {},
   "source": []
  }
 ],
 "metadata": {
  "kernelspec": {
   "display_name": "Python 3 (ipykernel)",
   "language": "python",
   "name": "python3"
  },
  "language_info": {
   "codemirror_mode": {
    "name": "ipython",
    "version": 3
   },
   "file_extension": ".py",
   "mimetype": "text/x-python",
   "name": "python",
   "nbconvert_exporter": "python",
   "pygments_lexer": "ipython3",
   "version": "3.7.1"
  }
 },
 "nbformat": 4,
 "nbformat_minor": 5
}
